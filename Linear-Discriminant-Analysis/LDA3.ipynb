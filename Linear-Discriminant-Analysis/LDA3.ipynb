{
 "cells": [
  {
   "cell_type": "code",
   "execution_count": 484,
   "source": [
    "import numpy as np\n",
    "import pandas as pd\n",
    "import matplotlib.pyplot as plt\n",
    "import sklearn\n",
    "import plotly.express as px\n",
    "\n",
    "from scipy.stats import norm\n",
    "from sklearn.preprocessing import StandardScaler\n",
    "from sklearn.preprocessing import LabelEncoder\n",
    "from sklearn import metrics\n",
    "from sklearn.datasets import load_wine\n",
    "from sklearn.model_selection import train_test_split\n",
    "dw = load_wine()"
   ],
   "outputs": [],
   "metadata": {}
  },
  {
   "cell_type": "code",
   "execution_count": 485,
   "source": [
    "scaler = StandardScaler()\n",
    "sc_x = scaler.fit_transform(dw.data)"
   ],
   "outputs": [],
   "metadata": {}
  },
  {
   "cell_type": "code",
   "execution_count": 486,
   "source": [
    "x_train, x_test, y_train, y_test = train_test_split(sc_x, dw.target, test_size= 0.3, shuffle= True)"
   ],
   "outputs": [],
   "metadata": {}
  },
  {
   "cell_type": "code",
   "execution_count": 487,
   "source": [
    "def get_count(B,u):\n",
    "    n = np.zeros(np.shape(u))\n",
    "    B = np.array(B)\n",
    "    #print(np.shape(B))\n",
    "    for i in range(len(u)):\n",
    "        for j in range(len(B)):\n",
    "            if u[i] == B[j]:\n",
    "                n[i] = n[i]+1\n",
    "            else:\n",
    "                pass\n",
    "    return n"
   ],
   "outputs": [],
   "metadata": {}
  },
  {
   "cell_type": "code",
   "execution_count": 488,
   "source": [
    "def extraction(A,B,c,u):\n",
    "    A = np.array(A)\n",
    "    #print(np.shape(A))\n",
    "    B = np.array(B)\n",
    "    w0 = np.zeros((int(c[0]), np.size(A[1])))\n",
    "    w1 = np.zeros((int(c[1]), np.size(A[1])))\n",
    "    w2 = np.zeros((int(c[2]), np.size(A[1])))\n",
    "\n",
    "    state = 0\n",
    "    for i in u:\n",
    "        k = 0\n",
    "        for j in range(len(A)):\n",
    "            if i == B[j] and state == 0:\n",
    "                w0[k] = A[j]\n",
    "                k = k+1\n",
    "\n",
    "            elif i == B[j] and state ==1:\n",
    "                w1[k] = A[j]\n",
    "                k = k+1\n",
    "\n",
    "            elif i == B[j] and state == 2:\n",
    "                w2[k] = A[j]\n",
    "                k = k+1\n",
    "\n",
    "            else:\n",
    "                pass\n",
    "\n",
    "        state = state+1\n",
    "    return w0, w1, w2"
   ],
   "outputs": [],
   "metadata": {}
  },
  {
   "cell_type": "code",
   "execution_count": 489,
   "source": [
    "def get_mean(A, B, C, D):\n",
    "    A = np.array(A)\n",
    "    B = np.array(B)\n",
    "    C = np.array(C)\n",
    "    D = np.array(D)\n",
    "\n",
    "    m = np.zeros((np.size(A[1]), 1))\n",
    "    n = np.zeros((np.size(B[1]), 1))\n",
    "    o = np.zeros((np.size(C[1]), 1))\n",
    "    p = np.zeros((np.size(D[1]), 1))\n",
    "\n",
    "    for i in range(np.size(A[1])):\n",
    "        m[i] = np.mean(A[:,i])\n",
    "    \n",
    "    for i in range(np.size(B[1])):\n",
    "        n[i] = np.mean(B[:,i])\n",
    "    \n",
    "    for i in range(np.size(C[1])):\n",
    "        o[i] = np.mean(C[:,i])\n",
    "    \n",
    "    for i in range(np.size(D[1])):\n",
    "        p[i] = np.mean(D[:,i])\n",
    "\n",
    "    return m,n,o,p"
   ],
   "outputs": [],
   "metadata": {}
  },
  {
   "cell_type": "code",
   "execution_count": 490,
   "source": [
    "def normalizer(A,m):\n",
    "    A = np.array(A)\n",
    "    #print(np.shape(A))\n",
    "    for i in range(len(A)):\n",
    "        for j in range(np.size(A[1])):\n",
    "            A[i][j] = A[i][j] - m[j]\n",
    "\n",
    "    return A"
   ],
   "outputs": [],
   "metadata": {}
  },
  {
   "cell_type": "code",
   "execution_count": null,
   "source": [],
   "outputs": [],
   "metadata": {}
  },
  {
   "cell_type": "code",
   "execution_count": 491,
   "source": [
    "def SW(A,B,C,D,E,F):\n",
    "    a = normalizer(A,D)\n",
    "    b = normalizer(B,E)\n",
    "    c = normalizer(C,F)\n",
    "\n",
    "    sw0 = a.T.dot(a)\n",
    "    sw1 = b.T.dot(b)\n",
    "    sw2 = c.T.dot(c)\n",
    "\n",
    "    X = sw0 + sw1 + sw2\n",
    "    return X"
   ],
   "outputs": [],
   "metadata": {}
  },
  {
   "cell_type": "code",
   "execution_count": 492,
   "source": [
    "def SB(A,B,C,E,cnts):\n",
    "    A = A - E\n",
    "    B = B - E\n",
    "    C = C - E\n",
    "\n",
    "    A = A.dot(A.T)\n",
    "    B = B.dot(B.T)\n",
    "    C = C.dot(C.T)\n",
    "\n",
    "    Y = cnts[0]*A + cnts[1]*B + cnts[2]*C\n",
    "    return Y"
   ],
   "outputs": [],
   "metadata": {}
  },
  {
   "cell_type": "code",
   "execution_count": 493,
   "source": [
    "def sep(A,B):\n",
    "\n",
    "    J = sorted(A, reverse= True)\n",
    "    j = np.array((J[0], J[1]))\n",
    "    #print(np.shape(j))\n",
    "    W = np.zeros((2, np.size(A)))\n",
    "    #print(type(j))\n",
    "    e = 0\n",
    "    #count = np.zeros((1,2))\n",
    "    #print(count[0][0])\n",
    "    for i in j:  \n",
    "        for k in range(len(A)):\n",
    "            if i == A[k]:\n",
    "                W[e] = B[k]\n",
    "                e=e+1  \n",
    "    #print('W: \\n')        \n",
    "    #pd.DataFrame(W)\n",
    "    return W"
   ],
   "outputs": [],
   "metadata": {}
  },
  {
   "cell_type": "code",
   "execution_count": 494,
   "source": [
    "def Add(C,D,E,M):\n",
    "    for j in range(len(M[0,:])):\n",
    "        M[0][j] = C[j]\n",
    "\n",
    "    for j in range(len(C)):\n",
    "        M[1][j] = D[j]\n",
    "\n",
    "    for j in range(len(C)):\n",
    "        M[2][j] = E[j]\n",
    "\n",
    "    return M"
   ],
   "outputs": [],
   "metadata": {}
  },
  {
   "cell_type": "code",
   "execution_count": 495,
   "source": [
    "def classi(A,B,C,D,E,u):\n",
    "    \n",
    "    M = np.zeros((np.size(u), np.size(C)))\n",
    "    r = np.zeros(np.shape(u))\n",
    "    ypred = np.zeros(np.shape(B))\n",
    "    M = Add(C,D,E,M)\n",
    "    for i in range(len(A)):\n",
    "        count = 0\n",
    "        for j in range(len(u)):\n",
    "            r[j] = sum(abs(A[i] - M[j]))\n",
    "        c = min(r)  \n",
    "        for a1 in r:\n",
    "            if a1 == c:\n",
    "                ypred[i] = count\n",
    "            else:\n",
    "                count = count+1\n",
    "    \n",
    "    return ypred"
   ],
   "outputs": [],
   "metadata": {}
  },
  {
   "cell_type": "code",
   "execution_count": 496,
   "source": [
    "def important_parameters(E):\n",
    "    #print(E.real)\n",
    "    J = sorted(E, reverse= True)\n",
    "    j = np.array((J[0], J[1]))\n",
    "    #print(j)\n",
    "    cnt = np.zeros((1,2))\n",
    "    for i in range(len(j)):\n",
    "        count = 0\n",
    "        for k in range(len(E)):\n",
    "            if j[i] == E[k].real:\n",
    "                cnt[0][i] = count \n",
    "            else:\n",
    "                count = count+1\n",
    "    \n",
    "    #print(cnt)\n",
    "\n",
    "    print(\"\\n the important parameters are: \\n\")\n",
    "    print(dw.feature_names[int(cnt[0][0])])\n",
    "    print(dw.feature_names[int(cnt[0][1])])\n",
    "    print('\\n')\n",
    "    return cnt"
   ],
   "outputs": [],
   "metadata": {}
  },
  {
   "cell_type": "code",
   "execution_count": 497,
   "source": [
    "l = ['a','b','c']\n",
    "c = np.asarray(l)\n",
    "print(type(l))"
   ],
   "outputs": [
    {
     "output_type": "stream",
     "name": "stdout",
     "text": [
      "<type 'list'>\n"
     ]
    }
   ],
   "metadata": {}
  },
  {
   "cell_type": "code",
   "execution_count": 498,
   "source": [
    "# from turtle import color\n",
    "# from pyparsing import col\n",
    "# \n",
    "\n",
    "def color_code(A, B, C, u, y):\n",
    "    colors = []\n",
    "    for i in B:\n",
    "        state = 0\n",
    "        for j in range(len(u)):\n",
    "            if i == u[j] and state == 0:\n",
    "                colors.append('r')\n",
    "                \n",
    "            elif i == u[j] and state == 1:\n",
    "                colors.append('b')\n",
    "                \n",
    "            elif i == u[j] and state == 2:\n",
    "                colors.append('g')\n",
    "            else:\n",
    "                state = state+1\n",
    "                   \n",
    "    lda = A.dot(C.T)\n",
    "    for i in range(len(A)):\n",
    "        plt.scatter(x= lda[i:,0], y= lda[i:,1], color= colors[i])"
   ],
   "outputs": [],
   "metadata": {}
  },
  {
   "cell_type": "code",
   "execution_count": 499,
   "source": [
    "def marks(A,B):\n",
    "    count = 0.0\n",
    "    # print(type(count))\n",
    "    for i in range(len(A)):\n",
    "        if A[i] == B[i]:\n",
    "            count = count+1\n",
    "        else:\n",
    "            pass\n",
    "    \n",
    "    m = (count/float(len(A)))*100\n",
    "    return m"
   ],
   "outputs": [],
   "metadata": {}
  },
  {
   "cell_type": "code",
   "execution_count": 500,
   "source": [
    "def LinDisAnal(A,B):\n",
    "    #print(np.shape(A))\n",
    "    U = np.unique(B)\n",
    "    counts = get_count(B,U)\n",
    "    W0, W1, W2 = extraction(A, B, counts, U)\n",
    "    M0, M1, M2, M = get_mean(W0, W1, W2, A)\n",
    "    sw = SW(W0,W1,W2,M0,M1,M2)\n",
    "    sb = SB(M0,M1,M2,M,counts)\n",
    "    Yp = classi(A,B, M0, M1, M2, U)\n",
    "    print('accuracy score using python libraries: \\n')\n",
    "    print(metrics.accuracy_score(Yp, B)*100)\n",
    "    print('\\n')\n",
    "    print('accuracy score using my code: \\n')\n",
    "    Mark = marks(Yp, B)\n",
    "    print(Mark)\n",
    "    eig_vals, eig_vecs = np.linalg.eig(np.linalg.inv(sw).dot(sb))\n",
    "    #print(np.shape(eig_vals))\n",
    "    ip = important_parameters(eig_vals)\n",
    "    #print(ip)\n",
    "    nm= sep(eig_vals, eig_vecs)\n",
    "    color_code(x_train, y_train, nm, U, Yp)\n",
    "    cm = confusion_matrix(B, Yp)\n",
    "    print(cm)\n"
   ],
   "outputs": [],
   "metadata": {}
  },
  {
   "cell_type": "code",
   "execution_count": 501,
   "source": [
    "LinDisAnal(x_train, y_train)\n",
    "#LinDisAnal(x_test, y_test)"
   ],
   "outputs": [
    {
     "output_type": "stream",
     "name": "stdout",
     "text": [
      "accuracy score using python libraries: \n",
      "\n",
      "96.7741935483871\n",
      "\n",
      "\n",
      "accuracy score using my code: \n",
      "\n",
      "96.7741935484\n",
      "\n",
      " the important parameters are: \n",
      "\n",
      "ash\n",
      "malic_acid\n",
      "\n",
      "\n"
     ]
    },
    {
     "output_type": "stream",
     "name": "stderr",
     "text": [
      "/home/raghu/.local/lib/python2.7/site-packages/ipykernel_launcher.py:14: ComplexWarning:\n",
      "\n",
      "Casting complex values to real discards the imaginary part\n",
      "\n"
     ]
    },
    {
     "output_type": "stream",
     "name": "stdout",
     "text": [
      "[[42  0  0]\n",
      " [ 2 43  2]\n",
      " [ 0  0 35]]\n"
     ]
    },
    {
     "output_type": "display_data",
     "data": {
      "text/plain": [
       "<Figure size 432x288 with 1 Axes>"
      ],
      "image/png": "[encoded data removed]"
     },
     "metadata": {
      "needs_background": "light"
     }
    }
   ],
   "metadata": {}
  },
  {
   "cell_type": "code",
   "execution_count": null,
   "source": [],
   "outputs": [],
   "metadata": {}
  },
  {
   "cell_type": "code",
   "execution_count": 502,
   "source": [
    "print(dw.feature_names)"
   ],
   "outputs": [
    {
     "output_type": "stream",
     "name": "stdout",
     "text": [
      "['alcohol', 'malic_acid', 'ash', 'alcalinity_of_ash', 'magnesium', 'total_phenols', 'flavanoids', 'nonflavanoid_phenols', 'proanthocyanins', 'color_intensity', 'hue', 'od280/od315_of_diluted_wines', 'proline']\n"
     ]
    }
   ],
   "metadata": {}
  },
  {
   "cell_type": "code",
   "execution_count": 503,
   "source": [
    "from sklearn.ensemble import RandomForestClassifier\n",
    "classify = RandomForestClassifier()\n",
    "classify.fit(x_train, y_train)\n",
    "y_pred = classify.predict(x_test)\n",
    "print(metrics.accuracy_score(y_test, y_pred)*100) "
   ],
   "outputs": [
    {
     "output_type": "stream",
     "name": "stdout",
     "text": [
      "98.14814814814815\n"
     ]
    }
   ],
   "metadata": {}
  },
  {
   "cell_type": "markdown",
   "source": [
    "SKlearn LDA"
   ],
   "metadata": {}
  },
  {
   "cell_type": "code",
   "execution_count": 504,
   "source": [
    "from sklearn.preprocessing import StandardScaler\n",
    "sc = StandardScaler()\n",
    "x_train = sc.fit_transform(x_train)\n",
    "x_test = sc.transform(x_test)"
   ],
   "outputs": [],
   "metadata": {}
  },
  {
   "cell_type": "code",
   "execution_count": 505,
   "source": [
    "from sklearn.discriminant_analysis import LinearDiscriminantAnalysis as LDA "
   ],
   "outputs": [],
   "metadata": {}
  },
  {
   "cell_type": "code",
   "execution_count": 506,
   "source": [
    "lda = LDA(n_components= 2)\n",
    "x_train = lda.fit_transform(x_train, y_train)\n",
    "x_test = lda.transform(x_test)"
   ],
   "outputs": [],
   "metadata": {}
  },
  {
   "cell_type": "code",
   "execution_count": 507,
   "source": [
    "# make predictions \n",
    "\n",
    "from sklearn.ensemble import RandomForestClassifier\n",
    "\n",
    "classifier = RandomForestClassifier(max_depth= 2, random_state= 0)\n",
    "classifier.fit(x_train, y_train)\n",
    "y_pred = classifier.predict(x_test)"
   ],
   "outputs": [],
   "metadata": {}
  },
  {
   "cell_type": "code",
   "execution_count": 508,
   "source": [
    "# evaluating the performance \n",
    "\n",
    "from sklearn.metrics import confusion_matrix\n",
    "from sklearn.metrics import accuracy_score\n",
    "\n",
    "cm = confusion_matrix(y_test, y_pred)\n",
    "print(cm)\n",
    "print(str(accuracy_score(y_test, y_pred)))"
   ],
   "outputs": [
    {
     "output_type": "stream",
     "name": "stdout",
     "text": [
      "[[17  0  0]\n",
      " [ 0 24  0]\n",
      " [ 0  0 13]]\n",
      "1.0\n"
     ]
    }
   ],
   "metadata": {}
  },
  {
   "cell_type": "code",
   "execution_count": null,
   "source": [],
   "outputs": [],
   "metadata": {}
  }
 ],
 "metadata": {
  "interpreter": {
   "hash": "767d51c1340bd893661ea55ea3124f6de3c7a262a8b4abca0554b478b1e2ff90"
  },
  "kernelspec": {
   "name": "python3",
   "display_name": "Python 2.7.18 64-bit"
  },
  "language_info": {
   "mimetype": "text/x-python",
   "nbconvert_exporter": "python",
   "name": "python",
   "pygments_lexer": "ipython2",
   "version": "2.7.18",
   "file_extension": ".py",
   "codemirror_mode": {
    "version": 2,
    "name": "ipython"
   }
  },
  "orig_nbformat": 4
 },
 "nbformat": 4,
 "nbformat_minor": 2
}